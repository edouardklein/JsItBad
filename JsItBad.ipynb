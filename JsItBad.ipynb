{
 "cells": [
  {
   "cell_type": "markdown",
   "metadata": {
    "collapsed": true
   },
   "source": [
    "Determining whether a Javascript sample is malicious is not computable (https://en.wikipedia.org/wiki/Computable_function) : we are looking for an algorithm that takes a program (which can be seen as an arbitrary Turing Machine) as an input and whose output is a property of the *execution* of that program.\n",
    "\n",
    "If you are unfamiliar with the theory of computability and want ot get an intuitive sense of this, imagine writing a JS sample that non trivially never terminates. A simple `while(1){}` would not do the trick because it can be trivially *proven* (without executing it) that it never terminates. \n",
    "\n",
    "A program terminating depending on the answer to some complex mathematical problem (e.g. finding whether a big number is prime) can not be proven to terminate short of actually solving the problem, the best method for doing so being to actually execute the program.\n",
    "\n",
    "Therefore, the best way to now if this program will terminate is to execute it, which may never ends. That is why deciding a property about the *execution* of that program is not computable in the general case.\n",
    "\n",
    "This does not deter us from trying though, because in practice a program that does not terminate in a few seconds will be interrupted by the browser, and is therefore neither malicious nor begnin, it is non-fonctional. The goal here is to devise some indicator of malignity of a JS sample without even executing it (who wants to execute malicious code ?).\n",
    "\n",
    "\n",
    "# Related works\n",
    "\\cite{likarish2009obfuscated}. Bonne intro, bon blabla, mais ils ont créé un détecteur d'obfuscation plus qu'autre chose. On utilise quand même leur features.\n",
    "\n",
    "On se limite aux features qu'on peut calculer sans même parser le JS (ne fut-ce que parce qu'on est pas à l'abri d'une attaque sur le parser."
   ]
  },
  {
   "cell_type": "markdown",
   "metadata": {
    "collapsed": true
   },
   "source": [
    "# Code"
   ]
  },
  {
   "cell_type": "code",
   "execution_count": 48,
   "metadata": {
    "collapsed": false
   },
   "outputs": [],
   "source": [
    "import glob\n",
    "import string\n",
    "import re\n",
    "import numpy as np\n",
    "\n",
    "# Loading the data\n",
    "data = []\n",
    "for js_file in glob.glob('Javascript/*/*'):\n",
    "    new = {}\n",
    "    new['name'] = js_file.split('/')[-1]\n",
    "    new['code'] = open(js_file,'r').read()\n",
    "    if new['name'][-2:] == 'js':\n",
    "        if new['name'][-6:] == 'min.js':\n",
    "            new['nature'] = 'Minified'\n",
    "            new['color'] = 'b'\n",
    "        else:\n",
    "            new['nature'] = 'Normal'\n",
    "            new['color'] = 'g'\n",
    "    elif new['name'][-3:] == 'out':\n",
    "        new['nature'] = 'Malicious'\n",
    "        new['color'] = 'r'\n",
    "    data.append(new)"
   ]
  },
  {
   "cell_type": "markdown",
   "metadata": {
    "collapsed": true
   },
   "source": [
    "# Features"
   ]
  },
  {
   "cell_type": "code",
   "execution_count": 49,
   "metadata": {
    "collapsed": false
   },
   "outputs": [],
   "source": [
    "def length(code):\n",
    "    return len(code)\n",
    "\n",
    "def nb_lines(code):\n",
    "    return len(code.split('\\n'))\n",
    "\n",
    "def avg_char_per_line(code):\n",
    "    return length(code)/nb_lines(code)\n",
    "\n",
    "def nb_strings(code):\n",
    "    '''Ugly approximation, no simple way out of this short of actually parsing the JS.'''\n",
    "    return len(code.split(\"'\"))+len(code.split('\"'))\n",
    "\n",
    "def nb_non_printable(code):\n",
    "    '''\\cite{likarish2009obfuscated} use unicode symbol, but we are more general'''\n",
    "    return len([x for x in code if not x in string.printable])\n",
    "\n",
    "hex_octal_re = re.compile('([^A-F0-9]0[0-7]+|0x[A-F0-9]+)')\n",
    "def hex_or_octal(code):\n",
    "    '''Ugly as hell, but we dont want to parse'''\n",
    "    return len(list(hex_octal_re.finditer(code)))\n",
    "\n",
    "def max_nesting_level(code):\n",
    "    l = 0\n",
    "    max_l = 0\n",
    "    for c in code:\n",
    "        if c in '({[':\n",
    "            l+=1\n",
    "            max_l = l if l > max_l else max_l\n",
    "        elif c in ')}]':\n",
    "            l-=1\n",
    "    return max_l\n",
    "\n",
    "features = [length, nb_lines, avg_char_per_line, nb_strings, nb_non_printable, hex_or_octal, max_nesting_level]"
   ]
  },
  {
   "cell_type": "code",
   "execution_count": 51,
   "metadata": {
    "collapsed": false
   },
   "outputs": [
    {
     "data": {
      "text/plain": [
       "array([[  9.54297000e+05,   2.61810000e+04,   3.64499828e+01,\n          9.52700000e+03,   1.21000000e+02,   7.90000000e+01,\n          1.70000000e+01],\n       [  1.25496000e+05,   2.51000000e+02,   4.99984064e+02,\n          2.94000000e+03,   0.00000000e+00,   9.00000000e+00,\n          1.70000000e+01],\n       [  1.05066000e+05,   2.77900000e+03,   3.78071249e+01,\n          4.36000000e+02,   0.00000000e+00,   2.00000000e+00,\n          1.00000000e+01],\n       [  3.35277000e+05,   9.50400000e+03,   3.52774621e+01,\n          1.82300000e+03,   1.11900000e+03,   8.60000000e+01,\n          1.40000000e+01],\n       [  1.51125000e+05,   5.00000000e+00,   3.02250000e+04,\n          1.81500000e+03,   0.00000000e+00,   2.40000000e+01,\n          1.30000000e+01],\n       [  1.22301700e+06,   9.00000000e+00,   1.35890778e+05,\n          2.43140000e+04,   3.00000000e+00,   4.30000000e+01,\n          2.60000000e+01],\n       [  6.29481000e+05,   1.85660000e+04,   3.39050415e+01,\n          6.88600000e+03,   0.00000000e+00,   8.00000000e+00,\n          3.10000000e+01],\n       [  1.70589900e+06,   5.28740000e+04,   3.22634754e+01,\n          1.80480000e+04,   5.00000000e+00,   3.00000000e+00,\n          1.70000000e+01],\n       [  3.81920000e+05,   1.20000000e+01,   3.18266667e+04,\n          1.10760000e+04,   2.00000000e+00,   0.00000000e+00,\n          1.30000000e+01],\n       [  1.62251200e+06,   5.08620000e+04,   3.19002792e+01,\n          1.64790000e+04,   5.00000000e+00,   3.00000000e+00,\n          1.50000000e+01],\n       [  2.47387000e+05,   9.20600000e+03,   2.68723658e+01,\n          2.34100000e+03,   0.00000000e+00,   1.10000000e+01,\n          1.80000000e+01],\n       [  5.24870000e+04,   1.50300000e+03,   3.49214904e+01,\n          8.57000000e+02,   0.00000000e+00,   1.00000000e+00,\n          9.00000000e+00],\n       [  2.02262000e+05,   7.83000000e+03,   2.58316731e+01,\n          4.61700000e+03,   0.00000000e+00,   4.00000000e+01,\n          1.70000000e+01],\n       [  1.55376000e+05,   6.06900000e+03,   2.56015818e+01,\n          2.33500000e+03,   0.00000000e+00,   8.00000000e+00,\n          1.10000000e+01],\n       [  1.66494300e+06,   5.24610000e+04,   3.17367759e+01,\n          1.49700000e+04,   1.20000000e+01,   1.65000000e+02,\n          1.80000000e+01],\n       [  4.40113000e+05,   3.30000000e+01,   1.33367576e+04,\n          7.64100000e+03,   1.00000000e+00,   4.70000000e+01,\n          3.50000000e+01],\n       [  4.35265000e+05,   1.15300000e+03,   3.77506505e+02,\n          9.56700000e+03,   0.00000000e+00,   3.20000000e+01,\n          1.00000000e+01],\n       [  8.47519000e+05,   2.99380000e+04,   2.83091389e+01,\n          1.06890000e+04,   0.00000000e+00,   4.00000000e+01,\n          1.10000000e+01],\n       [  1.67880000e+04,   2.30000000e+01,   7.29913043e+02,\n          1.58200000e+03,   0.00000000e+00,   6.00000000e+00,\n          4.00000000e+00],\n       [  1.55720000e+04,   3.88700000e+03,   4.00617443e+00,\n          1.60000000e+01,   0.00000000e+00,   1.00000000e+00,\n          3.00000000e+00],\n       [  6.25000000e+03,   1.90000000e+01,   3.28947368e+02,\n          1.40000000e+01,   0.00000000e+00,   2.60000000e+01,\n          2.00000000e+00],\n       [  9.12060000e+04,   2.10000000e+01,   4.34314286e+03,\n          4.20000000e+01,   0.00000000e+00,   0.00000000e+00,\n          3.00000000e+00],\n       [  2.03000000e+02,   5.00000000e+00,   4.06000000e+01,\n          4.00000000e+00,   0.00000000e+00,   0.00000000e+00,\n          2.00000000e+00],\n       [  8.96860000e+04,   2.60000000e+01,   3.44946154e+03,\n          1.98000000e+04,   0.00000000e+00,   1.80000000e+01,\n          3.00000000e+00],\n       [  1.12690000e+04,   2.50000000e+01,   4.50760000e+02,\n          1.80000000e+01,   0.00000000e+00,   0.00000000e+00,\n          3.00000000e+00],\n       [  5.29200000e+03,   1.70000000e+01,   3.11294118e+02,\n          1.20000000e+01,   0.00000000e+00,   2.80000000e+01,\n          1.00000000e+00],\n       [  1.19302000e+05,   1.10000000e+01,   1.08456364e+04,\n          1.54320000e+04,   0.00000000e+00,   0.00000000e+00,\n          3.00000000e+00],\n       [  1.64300000e+03,   5.60000000e+01,   2.93392857e+01,\n          4.00000000e+01,   0.00000000e+00,   0.00000000e+00,\n          3.00000000e+00],\n       [  2.03000000e+02,   5.00000000e+00,   4.06000000e+01,\n          4.00000000e+00,   0.00000000e+00,   0.00000000e+00,\n          2.00000000e+00],\n       [  2.03000000e+02,   5.00000000e+00,   4.06000000e+01,\n          4.00000000e+00,   0.00000000e+00,   0.00000000e+00,\n          2.00000000e+00]])"
      ]
     },
     "execution_count": 51,
     "metadata": {},
     "output_type": "execute_result"
    }
   ],
   "source": [
    "X = np.array([[f(x['code']) for f in features] for x in data])\n",
    "X[:30]"
   ]
  },
  {
   "cell_type": "code",
   "execution_count": 57,
   "metadata": {
    "collapsed": false
   },
   "outputs": [
    {
     "data": {
      "text/plain": [
       "<matplotlib.figure.Figure at 0x1096316a0>"
      ]
     },
     "metadata": {},
     "output_type": "display_data"
    }
   ],
   "source": [
    "#http://scikit-learn.org/stable/auto_examples/manifold/plot_compare_methods.html#example-manifold-plot-compare-methods-py\n",
    "from sklearn import manifold\n",
    "%matplotlib inline\n",
    "import matplotlib.pylab as plt\n",
    "\n",
    "n_neighbors = 10\n",
    "n_components = 2\n",
    "#Y = manifold.Isomap(n_neighbors, n_components).fit_transform(X)\n",
    "#Y = manifold.LocallyLinearEmbedding(n_neighbors, n_components,\n",
    "#                                        eigen_solver='auto').fit_transform(X)\n",
    "Y = manifold.MDS(n_components, max_iter=100, n_init=1).fit_transform(X)\n",
    "#Y = manifold.SpectralEmbedding(n_components=n_components,\n",
    "#                                n_neighbors=n_neighbors).fit_transform(X)\n",
    "#Y = manifold.TSNE(n_components=n_components, init='pca', random_state=0).fit_transform(X)\n",
    "plt.scatter(Y[:, 0], Y[:, 1], c=[x['color'] for x in data], alpha=0.2)\n",
    "for label, x, y in zip([x['name'] for x in data], Y[:, 0], Y[:, 1]):\n",
    "    if '.js' in label and not ('min.' in lab2el):\n",
    "        plt.annotate(label ,xy=[x,y])\n",
    "plt.savefig('toto.pdf')\n"
   ]
  },
  {
   "cell_type": "markdown",
   "metadata": {
    "collapsed": true
   },
   "source": [
    "On arrive assez facilement à différencier les fichiers JS extrêmement gentils de ceux un peu moins sympa. Le problème est qu'il y a des fichiers pas sympa et des fichiers innocents mélangés au même endroit.\n",
    "\n",
    "On va voir de quoi il retourne en enlevant de l'analyse les fichiers trop sympas et facile à détecter, ce qui nous laissera nous concentrer sur les fichiers problématiques.\n",
    "\n",
    "Pour ça on crée le répertoire 'hard_js' et le notebook correspondant."
   ]
  }
 ],
 "metadata": {
  "kernelspec": {
   "display_name": "Python 3",
   "language": "python",
   "name": "python3"
  },
  "language_info": {
   "codemirror_mode": {
    "name": "ipython",
    "version": 3
   },
   "file_extension": ".py",
   "mimetype": "text/x-python",
   "name": "python",
   "nbconvert_exporter": "python",
   "pygments_lexer": "ipython3",
   "version": "3.4.2"
  },
  "name": "JsItBad.ipynb"
 },
 "nbformat": 4,
 "nbformat_minor": 0
}
